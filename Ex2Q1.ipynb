{
 "cells": [
  {
   "cell_type": "code",
   "execution_count": 5,
   "metadata": {},
   "outputs": [
    {
     "name": "stdout",
     "output_type": "stream",
     "text": [
      "The communities are:\n",
      "\n",
      "{1, 3, 5, 7, 9, 10, 13, 16, 21, 22, 24, 25, 26, 27, 29, 30, 31, 34, 36, 38, 39, 40, 45, 47, 48, 50, 51, 53, 54, 55, 56, 57, 58, 59, 60, 62, 63, 64, 65, 66, 67, 69, 72, 73, 75, 76, 77, 79, 80, 81, 82, 83, 84, 85, 87, 88, 92, 94, 96, 98, 100, 101, 103, 104, 105, 106, 107, 108, 109, 113, 117, 118, 119, 120, 121, 122, 123, 125, 126, 127, 128, 129, 130, 132, 133, 134, 135, 136, 139, 141, 142, 146, 148, 150, 153, 156, 158, 159, 160, 161, 163, 164, 165, 166, 168, 169, 170, 171, 172, 173, 176, 178, 180, 183, 184, 185, 186, 187, 188, 189, 190, 191, 194, 196, 197, 198, 199, 200, 202, 203, 204, 206, 207, 208, 211, 212, 213, 217, 221, 222, 223, 224, 228, 229, 231, 232, 234, 235, 236, 237, 238, 239, 242, 246, 247, 248, 249, 250, 251, 252, 254, 257, 258, 260, 261, 265, 266, 268, 269, 270, 271, 272, 274, 276, 277, 280, 281, 283, 284, 285, 286, 288, 290, 291, 294, 295, 297, 298, 299, 300, 301, 302, 303, 304, 308, 309, 311, 313, 314, 315, 316, 317, 318, 320, 322, 323, 324, 325, 329, 330, 331, 332, 334, 336, 338, 339, 340, 341, 342, 344, 345, 346, 347}\n",
      "\n",
      "{2, 6, 8, 14, 17, 19, 20, 23, 28, 32, 35, 41, 44, 46, 49, 52, 61, 68, 70, 71, 86, 89, 91, 93, 95, 97, 99, 102, 110, 111, 112, 115, 116, 124, 131, 137, 138, 140, 143, 144, 147, 149, 151, 154, 155, 157, 162, 167, 174, 175, 177, 182, 192, 193, 201, 205, 214, 216, 219, 220, 225, 226, 227, 230, 240, 241, 243, 245, 253, 255, 259, 262, 263, 264, 267, 278, 279, 289, 293, 296, 305, 307, 310, 312, 319, 321, 326, 327, 333, 337, 343}\n",
      "\n",
      "{195, 4, 328, 78, 273, 306, 275, 181, 152, 218}\n",
      "\n"
     ]
    }
   ],
   "source": [
    "import warnings\n",
    "warnings.filterwarnings('ignore')\n",
    "\n",
    "import networkx as nx\n",
    "import math\n",
    "import matplotlib.pyplot as plt\n",
    "\n",
    "\n",
    "def NewmanGirvanAlgorithm(G, k):\n",
    "    \n",
    "    numberOfComponents = nx.number_connected_components(G)\n",
    "    \n",
    "    while(len(G.edges()) > 0 and numberOfComponents < k):\n",
    "        \n",
    "        edge_centrality = nx.edge_betweenness_centrality(G)\n",
    "        max_centrality = 0\n",
    "        to_remove = []\n",
    "        for edge in edge_centrality:\n",
    "             #find the edge with the highest centrality\n",
    "            if edge_centrality[edge] > max_centrality:\n",
    "                to_remove = []\n",
    "                max_centrality = edge_centrality[edge]\n",
    "\n",
    "            if edge_centrality[edge]==max_centrality:\n",
    "                to_remove.append(edge)\n",
    "        #if there is more than one edge equal to max_centrality - remove all edges \n",
    "        for tr in to_remove:\n",
    "            G.remove_edge(*tr)      \n",
    "        #recalculate the number of connected components    \n",
    "        numberOfComponents = nx.number_connected_components(G)\n",
    "\n",
    "    #print message in case we got more than k communities\n",
    "    #could happen because sometimes we remove more than one edge in each step\n",
    "    if numberOfComponents != k:\n",
    "        print(\"The algorithm couldn't reach exactly\", k, \"communities but\", numberOfComponents, \"\\n\")\n",
    "        \n",
    "    communities = nx.connected_components(G)\n",
    "    print(\"The communities are:\\n\")\n",
    "    for com in communities:\n",
    "        print (com)\n",
    "        print (\"\")\n",
    "    \n",
    "\n",
    "    \n",
    "def buildGraphFromFile(G, input):        \n",
    "    input_data = open(input, 'rU')\n",
    "    for line in input_data:\n",
    "        line = line.strip('\\n')\n",
    "        line = str(line)\n",
    "        line = line.split(\" \")\n",
    "    \n",
    "        G.add_edge(int(line[0]),int(line[1]))\n",
    "            \n",
    "\n",
    "G=nx.Graph()\n",
    "buildGraphFromFile(G, \"communities.txt\")\n",
    "\n",
    "#biggest connected component\n",
    "Gc = max(nx.connected_component_subgraphs(G), key=len)\n",
    "\n",
    "#run our algo on the biggest connected component as stated in class\n",
    "NewmanGirvanAlgorithm(Gc,3)\n"
   ]
  },
  {
   "cell_type": "code",
   "execution_count": null,
   "metadata": {},
   "outputs": [],
   "source": []
  }
 ],
 "metadata": {
  "kernelspec": {
   "display_name": "Python 3",
   "language": "python",
   "name": "python3"
  },
  "language_info": {
   "codemirror_mode": {
    "name": "ipython",
    "version": 3
   },
   "file_extension": ".py",
   "mimetype": "text/x-python",
   "name": "python",
   "nbconvert_exporter": "python",
   "pygments_lexer": "ipython3",
   "version": "3.6.4"
  }
 },
 "nbformat": 4,
 "nbformat_minor": 2
}
